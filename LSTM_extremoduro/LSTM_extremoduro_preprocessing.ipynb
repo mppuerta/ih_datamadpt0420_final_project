{
  "nbformat": 4,
  "nbformat_minor": 0,
  "metadata": {
    "colab": {
      "name": "LSTM_extremoduro_preprocessing",
      "provenance": []
    },
    "kernelspec": {
      "name": "python3",
      "display_name": "Python 3"
    },
    "accelerator": "GPU"
  },
  "cells": [
    {
      "cell_type": "code",
      "metadata": {
        "id": "YgvQfA-dScJ0"
      },
      "source": [
        "#Import text file, split into a list per line, remove punctuation marks and accents.\n",
        "file = open('raw_data/extremoduro.txt', 'r').read()\n",
        "\n",
        "\n",
        "data = file.split('\\n')\n",
        "data = list(filter(None,data))\n",
        "\n",
        "replacing = ['.','¿','?','¡','!','(',')','\\t',':',';','*','\"']\n",
        "\n",
        "for i in range(len(data)):\n",
        "  data[i] = data[i].lower()\n",
        "  for r in replacing:\n",
        "    data[i] = data[i].replace(r,'')\n",
        "  data[i] = data[i].replace('á','a')\n",
        "  data[i] = data[i].replace('é','e')\n",
        "  data[i] = data[i].replace('í','i')\n",
        "  data[i] = data[i].replace('ó','o')\n",
        "  data[i] = data[i].replace('ú','u')\n",
        "\n",
        "\n",
        "#Export the dataset as a list\n",
        "\n",
        "with open ('processed_data/extremoduro_processed.txt', 'w') as file:\n",
        "  file.write(data)"
      ],
      "execution_count": null,
      "outputs": []
    },
    {
      "cell_type": "code",
      "metadata": {
        "id": "3Ej2H0a15k3n"
      },
      "source": [
        ""
      ],
      "execution_count": null,
      "outputs": []
    }
  ]
}