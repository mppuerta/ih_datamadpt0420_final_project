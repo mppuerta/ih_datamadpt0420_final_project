{
  "nbformat": 4,
  "nbformat_minor": 0,
  "metadata": {
    "colab": {
      "name": "Markov_chain_lyrics_generation",
      "provenance": []
    },
    "kernelspec": {
      "name": "python3",
      "display_name": "Python 3"
    },
    "accelerator": "GPU"
  },
  "cells": [
    {
      "cell_type": "code",
      "metadata": {
        "id": "AtFcaqxcdPrL",
        "outputId": "8c65ec2a-67df-424b-df7f-259e01be5b66",
        "colab": {
          "base_uri": "https://localhost:8080/"
        }
      },
      "source": [
        "!pip install markovify"
      ],
      "execution_count": 42,
      "outputs": [
        {
          "output_type": "stream",
          "text": [
            "Requirement already satisfied: markovify in /usr/local/lib/python3.6/dist-packages (0.8.3)\n",
            "Requirement already satisfied: unidecode in /usr/local/lib/python3.6/dist-packages (from markovify) (1.1.1)\n"
          ],
          "name": "stdout"
        }
      ]
    },
    {
      "cell_type": "code",
      "metadata": {
        "id": "8wODDDwoeADd"
      },
      "source": [
        "import markovify\n",
        "import os"
      ],
      "execution_count": 43,
      "outputs": []
    },
    {
      "cell_type": "code",
      "metadata": {
        "id": "281oB_VSdpZ7"
      },
      "source": [
        "PATH = 'drive/My Drive'\n",
        "\n",
        "chains = []\n",
        "for filename in os.listdir(PATH):\n",
        "  content = open('drive/My Drive/extremoduro.txt', 'r').readlines()\n",
        "  markov_chain = markovify.Text(content)\n",
        "  chains.append(markov_chain)\n",
        "\n",
        "model = markovify.combine(chains)"
      ],
      "execution_count": 44,
      "outputs": []
    },
    {
      "cell_type": "code",
      "metadata": {
        "id": "1YOTHgwCdprn",
        "outputId": "9f693f58-5f64-4dd3-da51-963519444b01",
        "colab": {
          "base_uri": "https://localhost:8080/"
        }
      },
      "source": [
        "text = ''\n",
        "\n",
        "for i in range(20):\n",
        "  add = model.make_sentence()\n",
        "  text += add + '\\n '\n",
        "\n",
        "print(text)"
      ],
      "execution_count": 45,
      "outputs": [
        {
          "output_type": "stream",
          "text": [
            "para mí que ya no sé qué estás pensando.\n",
            " por ver si saliera la luna brilla y dar\n",
            " -te aseguro que no he perdido la conciencia social\n",
            " Vente a la deriva\n",
            " Y le sobra el valor que le muerda mi canción.\n",
            " Nosotras no las quería,\n",
            " cuando diga que me dicta esa boca; y ahora es todo campo ya.\n",
            " que encuentro un poco triste, es que me vuelvo duro como una regadera que la ola que surge\n",
            " Buitre no come alpiste.\n",
            " que separa en esta calle sin salida\n",
            " -te aseguro que no se calientan mis huesos\n",
            " cuando diga que no se droga,\n",
            " Y llega en tu mirada y me encuentro si me deja\n",
            " Y ya anda con la luna sólo con tocarla.\n",
            " meterme mil rayas, hablar con la lengua fuera.\n",
            " Sopla el viento corre alrededor.\n",
            " -pero solo no me da pereza.\n",
            " Miramé, vuelve a la sombra, amor, que yo ya no me sienta muy bien\n",
            " que separa en esta calle sin salida\n",
            " porque a la deriva\n",
            " \n"
          ],
          "name": "stdout"
        }
      ]
    }
  ]
}