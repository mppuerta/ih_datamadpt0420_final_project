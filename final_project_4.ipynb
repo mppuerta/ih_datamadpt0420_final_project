{
 "cells": [
  {
   "cell_type": "code",
   "execution_count": 28,
   "metadata": {},
   "outputs": [],
   "source": [
    "import pandas as pd\n",
    "import tensorflow as tf\n",
    "from tensorflow import keras\n",
    "from tensorflow.keras.preprocessing.text import Tokenizer\n",
    "from tensorflow.keras.preprocessing.sequence import pad_sequences\n"
   ]
  },
  {
   "cell_type": "code",
   "execution_count": 30,
   "metadata": {},
   "outputs": [],
   "source": [
    "data = pd.read_csv('../data/all_haiku.csv')\n",
    "\n",
    "\n",
    "data['haiku'] = data['0']+' '+data['1']+' '+data['2']\n",
    "data['haiku'] = data['haiku'].apply(lambda x: str(x).strip().replace('-','').lower())\n",
    "\n",
    "\n",
    "text = ''\n",
    "for i in data['haiku']:\n",
    "    text += i + ' '\n",
    "\n",
    "    \n",
    "unique_words = sorted(set(list(filter(lambda x: x != \"\", text.split(\" \")))))\n"
   ]
  },
  {
   "cell_type": "code",
   "execution_count": 32,
   "metadata": {},
   "outputs": [
    {
     "data": {
      "text/plain": [
       "array([[    0,     0,     0, ...,     7,     1,  1869],\n",
       "       [    0,     0,     0, ...,   283,     8,   463],\n",
       "       [    0,     0,     0, ...,     7,   263,   514],\n",
       "       ...,\n",
       "       [    0,     0,     0, ...,    25,  8136,   251],\n",
       "       [    0,     0,     0, ..., 53253,   116,  2753],\n",
       "       [    0,     0,     0, ...,   825,   245,   347]], dtype=int32)"
      ]
     },
     "execution_count": 32,
     "metadata": {},
     "output_type": "execute_result"
    }
   ],
   "source": [
    "haikus = data['haiku'].to_list()\n",
    "\n",
    "tokenizer = Tokenizer(num_words = len(unique_words))\n",
    "\n",
    "tokenizer.fit_on_texts(haikus)\n",
    "word_index = tokenizer.word_index\n",
    "\n",
    "sequences = tokenizer.texts_to_sequences(haikus)\n",
    "\n",
    "padded = pad_sequences(sequences)\n",
    "\n",
    "input_sequences = []\n",
    "for i in padded:\n",
    "    for j in range(1, len(sequences[0])):\n",
    "        n_gram_sequence = token_list[:j+1]\n",
    "        input_sequences.append(n_gram_sequence)"
   ]
  },
  {
   "cell_type": "code",
   "execution_count": null,
   "metadata": {},
   "outputs": [],
   "source": [
    "model = tf.keras.Sequential([tf.keras.layers.Embedding(tokenizer.vocab_size, 64),\n",
    "                            tf.keras.layers.Bidirectional(tf.keras.layers.LSTM(64, return_sequences=True)),\n",
    "                            tf.keras.layers.Bidirectional(tf.keras.layers.LSTM(32)),\n",
    "                            tf.keras.layers.Dense(64, activation='relu'),\n",
    "                            tf.keras.layers.Dense(1, activation='sigmoid')\n",
    "                            ])\n"
   ]
  },
  {
   "cell_type": "code",
   "execution_count": null,
   "metadata": {},
   "outputs": [],
   "source": [
    "pppp"
   ]
  },
  {
   "cell_type": "code",
   "execution_count": null,
   "metadata": {},
   "outputs": [],
   "source": []
  },
  {
   "cell_type": "code",
   "execution_count": null,
   "metadata": {},
   "outputs": [],
   "source": []
  }
 ],
 "metadata": {
  "kernelspec": {
   "display_name": "Python [conda env:ironhack]",
   "language": "python",
   "name": "conda-env-ironhack-py"
  },
  "language_info": {
   "codemirror_mode": {
    "name": "ipython",
    "version": 3
   },
   "file_extension": ".py",
   "mimetype": "text/x-python",
   "name": "python",
   "nbconvert_exporter": "python",
   "pygments_lexer": "ipython3",
   "version": "3.7.9"
  }
 },
 "nbformat": 4,
 "nbformat_minor": 4
}
