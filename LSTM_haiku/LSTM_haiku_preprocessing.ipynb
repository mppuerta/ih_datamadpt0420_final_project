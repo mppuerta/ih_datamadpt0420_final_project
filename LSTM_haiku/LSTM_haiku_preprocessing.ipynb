{
  "nbformat": 4,
  "nbformat_minor": 0,
  "metadata": {
    "colab": {
      "name": "LSTM_haiku_preprocessing",
      "provenance": [],
      "collapsed_sections": []
    },
    "kernelspec": {
      "name": "python3",
      "display_name": "Python 3"
    },
    "accelerator": "GPU"
  },
  "cells": [
    {
      "cell_type": "code",
      "metadata": {
        "id": "gdUcKtwBAkD4"
      },
      "source": [
        "import pandas as pd"
      ],
      "execution_count": null,
      "outputs": []
    },
    {
      "cell_type": "code",
      "metadata": {
        "id": "s81Op7XjWPNT"
      },
      "source": [
        "#Import the haikus dataset from https://www.kaggle.com/hjhalani30/haiku-dataset and create a list containing a string per haiku.\n",
        "data = pd.read_csv('raw_data/all_haiku.csv')\n",
        "\n",
        "data['haiku'] = data['0'] + ' ' + data['1'] + ' ' + data['2']\n",
        "data['haiku'] = data['haiku'].apply(lambda x: str(x).strip().replace('-','').lower()+' stopgenerating')\n",
        "\n",
        "text = data.iloc[0:5000,-1].to_list()\n",
        "\n",
        "with open ('processed_data/haiku_processed.txt', 'w') as file:\n",
        "  file.write(data)"
      ],
      "execution_count": null,
      "outputs": []
    }
  ]
}