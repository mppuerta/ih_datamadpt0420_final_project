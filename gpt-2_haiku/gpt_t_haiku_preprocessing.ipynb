{
  "nbformat": 4,
  "nbformat_minor": 0,
  "metadata": {
    "colab": {
      "name": "gpt-t_haiku_preprocessing",
      "provenance": [],
      "collapsed_sections": []
    },
    "kernelspec": {
      "display_name": "Python 3",
      "name": "python3"
    },
    "accelerator": "GPU"
  },
  "cells": [
    {
      "cell_type": "code",
      "metadata": {
        "id": "E9bgPyDwkTuq"
      },
      "source": [
        "import pandas as pd\n"
      ],
      "execution_count": null,
      "outputs": []
    },
    {
      "cell_type": "code",
      "metadata": {
        "id": "MUrGZxqykT0e"
      },
      "source": [
        "#Import the haikus dataset from https://www.kaggle.com/hjhalani30/haiku-dataset and export it as a unique string.\n",
        "data = pd.read_csv('raw_data/all_haiku.csv')\n",
        "\n",
        "text = ''\n",
        "  \n",
        "  \n",
        "data['haiku'] = data['0'].str.strip()+' '+data['1'].str.strip()+' '+data['2'].str.strip()+' '+'<|endoftext|> '\n",
        "\n",
        "for i in range(len(data.iloc[0:1501])):\n",
        "  text += data['haiku'].iloc[i]\n",
        "\n",
        "\n",
        "with open ('processed_data/haikus1500.txt', 'w') as file:\n",
        "  file.write(text)"
      ],
      "execution_count": null,
      "outputs": []
    }
  ]
}