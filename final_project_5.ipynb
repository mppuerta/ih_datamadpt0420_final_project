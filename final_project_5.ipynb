{
 "cells": [
  {
   "cell_type": "code",
   "execution_count": 1,
   "metadata": {},
   "outputs": [],
   "source": [
    "import tensorflow as tf\n",
    "\n",
    "from tensorflow.keras.preprocessing.sequence import pad_sequences\n",
    "from tensorflow.keras.layers import Embedding, LSTM, Dense, Bidirectional\n",
    "from tensorflow.keras.preprocessing.text import Tokenizer\n",
    "from tensorflow.keras.models import Sequential\n",
    "from tensorflow.keras.optimizers import Adam\n",
    "import numpy as np\n",
    "import pandas as pd\n"
   ]
  },
  {
   "cell_type": "code",
   "execution_count": 6,
   "metadata": {},
   "outputs": [
    {
     "name": "stdout",
     "output_type": "stream",
     "text": [
      "766\n"
     ]
    }
   ],
   "source": [
    "data = pd.read_csv('../all_haiku.csv')\n",
    "\n",
    "\n",
    "data['haiku'] = data['0']+' '+data['1']+' '+data['2']\n",
    "data['haiku'] = data['haiku'].apply(lambda x: str(x).strip().replace('-','').lower())\n",
    "\n",
    "\n",
    "tokenizer = Tokenizer()\n",
    "\n",
    "corpus = data.iloc[0:200,-1].to_list()\n",
    "\n",
    "tokenizer.fit_on_texts(corpus)\n",
    "total_words = len(tokenizer.word_index) + 1\n",
    "\n",
    "print(total_words)\n",
    "#print(tokenizer.word_index)\n"
   ]
  },
  {
   "cell_type": "code",
   "execution_count": 8,
   "metadata": {},
   "outputs": [],
   "source": [
    "input_sequences = []\n",
    "\n",
    "for line in corpus:\n",
    "    token_list = tokenizer.texts_to_sequences([line])[0]\n",
    "    for i in range(1, len(token_list)):\n",
    "        n_gram_sequence = token_list[:i+1]\n",
    "        input_sequences.append(n_gram_sequence)\n",
    "\n",
    "# pad sequences \n",
    "max_sequence_len = max([len(x) for x in input_sequences])\n",
    "input_sequences = np.array(pad_sequences(input_sequences, maxlen=max_sequence_len, padding='pre'))\n",
    "\n",
    "# create predictors and label\n",
    "xs, labels = input_sequences[:,:-1],input_sequences[:,-1]\n",
    "\n",
    "ys = tf.keras.utils.to_categorical(labels, num_classes=total_words)\n"
   ]
  },
  {
   "cell_type": "code",
   "execution_count": 9,
   "metadata": {},
   "outputs": [
    {
     "name": "stdout",
     "output_type": "stream",
     "text": [
      "Epoch 1/30\n",
      "46/46 [==============================] - 7s 162ms/step - loss: 6.3108 - accuracy: 0.0866\n",
      "Epoch 2/30\n",
      "46/46 [==============================] - 8s 171ms/step - loss: 5.4915 - accuracy: 0.1166\n",
      "Epoch 3/30\n",
      "46/46 [==============================] - 9s 200ms/step - loss: 4.9850 - accuracy: 0.1432\n",
      "Epoch 4/30\n",
      "46/46 [==============================] - 16s 356ms/step - loss: 4.3942 - accuracy: 0.1903\n",
      "Epoch 5/30\n",
      "46/46 [==============================] - 8s 175ms/step - loss: 3.6062 - accuracy: 0.2592\n",
      "Epoch 6/30\n",
      "46/46 [==============================] - 11s 244ms/step - loss: 2.7360 - accuracy: 0.3799\n",
      "Epoch 7/30\n",
      "46/46 [==============================] - 8s 171ms/step - loss: 1.9181 - accuracy: 0.5593\n",
      "Epoch 8/30\n",
      "46/46 [==============================] - 9s 202ms/step - loss: 1.2424 - accuracy: 0.7094\n",
      "Epoch 9/30\n",
      "46/46 [==============================] - 8s 173ms/step - loss: 0.8123 - accuracy: 0.8117\n",
      "Epoch 10/30\n",
      "46/46 [==============================] - 8s 172ms/step - loss: 0.5242 - accuracy: 0.8779\n",
      "Epoch 11/30\n",
      "46/46 [==============================] - 9s 190ms/step - loss: 0.3742 - accuracy: 0.9175\n",
      "Epoch 12/30\n",
      "46/46 [==============================] - 9s 196ms/step - loss: 0.2665 - accuracy: 0.9256\n",
      "Epoch 13/30\n",
      "46/46 [==============================] - 8s 170ms/step - loss: 0.2157 - accuracy: 0.9420\n",
      "Epoch 14/30\n",
      "46/46 [==============================] - 8s 167ms/step - loss: 0.1796 - accuracy: 0.9516\n",
      "Epoch 15/30\n",
      "46/46 [==============================] - 8s 168ms/step - loss: 0.1689 - accuracy: 0.9475\n",
      "Epoch 16/30\n",
      "46/46 [==============================] - 9s 203ms/step - loss: 0.1532 - accuracy: 0.9502\n",
      "Epoch 17/30\n",
      "46/46 [==============================] - 9s 188ms/step - loss: 0.1467 - accuracy: 0.9509\n",
      "Epoch 18/30\n",
      "46/46 [==============================] - 9s 194ms/step - loss: 0.1374 - accuracy: 0.9557\n",
      "Epoch 19/30\n",
      "46/46 [==============================] - 9s 193ms/step - loss: 0.1364 - accuracy: 0.9516\n",
      "Epoch 20/30\n",
      "46/46 [==============================] - 9s 186ms/step - loss: 0.1267 - accuracy: 0.9536\n",
      "Epoch 21/30\n",
      "46/46 [==============================] - 9s 192ms/step - loss: 0.1249 - accuracy: 0.9536\n",
      "Epoch 22/30\n",
      "46/46 [==============================] - 9s 202ms/step - loss: 0.1236 - accuracy: 0.9488\n",
      "Epoch 23/30\n",
      "46/46 [==============================] - 7s 160ms/step - loss: 0.1163 - accuracy: 0.9563\n",
      "Epoch 24/30\n",
      "46/46 [==============================] - 8s 168ms/step - loss: 0.1165 - accuracy: 0.9509\n",
      "Epoch 25/30\n",
      "46/46 [==============================] - 8s 171ms/step - loss: 0.1133 - accuracy: 0.9550\n",
      "Epoch 26/30\n",
      "46/46 [==============================] - 8s 180ms/step - loss: 0.1125 - accuracy: 0.9523\n",
      "Epoch 27/30\n",
      "46/46 [==============================] - 9s 193ms/step - loss: 0.1161 - accuracy: 0.9557\n",
      "Epoch 28/30\n",
      "46/46 [==============================] - 9s 190ms/step - loss: 0.1150 - accuracy: 0.9523\n",
      "Epoch 29/30\n",
      "46/46 [==============================] - 9s 206ms/step - loss: 0.1101 - accuracy: 0.9495\n",
      "Epoch 30/30\n",
      "46/46 [==============================] - 9s 194ms/step - loss: 0.1123 - accuracy: 0.9516\n",
      "<tensorflow.python.keras.engine.sequential.Sequential object at 0x7f41643df190>\n"
     ]
    }
   ],
   "source": [
    "model = Sequential()\n",
    "model.add(Embedding(total_words, 100, input_length=max_sequence_len-1))\n",
    "model.add(Bidirectional(LSTM(150)))\n",
    "model.add(Dense(total_words, activation='softmax'))\n",
    "adam = Adam(lr=0.01)\n",
    "model.compile(loss='categorical_crossentropy', optimizer=adam, metrics=['accuracy'])\n",
    "#earlystop = EarlyStopping(monitor='val_loss', min_delta=0, patience=5, verbose=0, mode='auto')\n",
    "history = model.fit(xs, ys, epochs=30, verbose=1)\n",
    "#print model.summary()\n",
    "print(model)"
   ]
  },
  {
   "cell_type": "code",
   "execution_count": 16,
   "metadata": {},
   "outputs": [],
   "source": [
    "import matplotlib.pyplot as plt\n",
    "\n",
    "\n",
    "def plot_graphs(history, string):\n",
    "  plt.plot(history.history[string])\n",
    "  plt.xlabel(\"Epochs\")\n",
    "  plt.ylabel(string)\n",
    "  plt.show()\n"
   ]
  },
  {
   "cell_type": "code",
   "execution_count": 17,
   "metadata": {},
   "outputs": [
    {
     "data": {
      "image/png": "[encoded data removed]",
      "text/plain": [
       "<Figure size 432x288 with 1 Axes>"
      ]
     },
     "metadata": {
      "needs_background": "light"
     },
     "output_type": "display_data"
    }
   ],
   "source": [
    "plot_graphs(history, 'accuracy')"
   ]
  },
  {
   "cell_type": "code",
   "execution_count": 10,
   "metadata": {},
   "outputs": [
    {
     "name": "stdout",
     "output_type": "stream",
     "text": [
      "WARNING:tensorflow:From <ipython-input-10-348572c97112>:7: Sequential.predict_classes (from tensorflow.python.keras.engine.sequential) is deprecated and will be removed after 2021-01-01.\n",
      "Instructions for updating:\n",
      "Please use instead:* `np.argmax(model.predict(x), axis=-1)`,   if your model does multi-class classification   (e.g. if it uses a `softmax` last-layer activation).* `(model.predict(x) > 0.5).astype(\"int32\")`,   if your model does binary classification   (e.g. if it uses a `sigmoid` last-layer activation).\n"
     ]
    },
    {
     "name": "stderr",
     "output_type": "stream",
     "text": [
      "WARNING:tensorflow:From <ipython-input-10-348572c97112>:7: Sequential.predict_classes (from tensorflow.python.keras.engine.sequential) is deprecated and will be removed after 2021-01-01.\n",
      "Instructions for updating:\n",
      "Please use instead:* `np.argmax(model.predict(x), axis=-1)`,   if your model does multi-class classification   (e.g. if it uses a `softmax` last-layer activation).* `(model.predict(x) > 0.5).astype(\"int32\")`,   if your model does binary classification   (e.g. if it uses a `sigmoid` last-layer activation).\n"
     ]
    },
    {
     "name": "stdout",
     "output_type": "stream",
     "text": [
      "fishing boats colors of the rainbow a white barn with painted butterflies window black umbrellas bloom ticks dark sea pool sea sea room the dark this train in the plastic sea reading light light of my hand sea ticks reading light from the sea and salt of pines so far from the sea this dark the sea this train reading dark the sea this train sea reading light from the clouds ticks ticks the morning sea sky light light reading between light reading sea light dark this morning between ticks sea ticks the clouds this morning sea ticks the sea this plastic bag reading dark dark\n"
     ]
    }
   ],
   "source": [
    "seed_text = \"fishing boats colors of the rainbow\"\n",
    "next_words = 100\n",
    "  \n",
    "for _ in range(next_words):\n",
    "    token_list = tokenizer.texts_to_sequences([seed_text])[0]\n",
    "    token_list = pad_sequences([token_list], maxlen=max_sequence_len-1, padding='pre')\n",
    "    predicted = model.predict_classes(token_list, verbose=0)\n",
    "    output_word = \"\"\n",
    "    for word, index in tokenizer.word_index.items():\n",
    "        if index == predicted:\n",
    "            output_word = word\n",
    "            break\n",
    "    seed_text += \" \" + output_word\n",
    "    \n",
    "print(seed_text)"
   ]
  },
  {
   "cell_type": "code",
   "execution_count": null,
   "metadata": {},
   "outputs": [],
   "source": []
  },
  {
   "cell_type": "code",
   "execution_count": null,
   "metadata": {},
   "outputs": [],
   "source": []
  },
  {
   "cell_type": "code",
   "execution_count": null,
   "metadata": {},
   "outputs": [],
   "source": []
  },
  {
   "cell_type": "code",
   "execution_count": null,
   "metadata": {},
   "outputs": [],
   "source": []
  },
  {
   "cell_type": "code",
   "execution_count": 32,
   "metadata": {},
   "outputs": [
    {
     "data": {
      "text/plain": [
       "array([[    0,     0,     0, ...,     7,     1,  1869],\n",
       "       [    0,     0,     0, ...,   283,     8,   463],\n",
       "       [    0,     0,     0, ...,     7,   263,   514],\n",
       "       ...,\n",
       "       [    0,     0,     0, ...,    25,  8136,   251],\n",
       "       [    0,     0,     0, ..., 53253,   116,  2753],\n",
       "       [    0,     0,     0, ...,   825,   245,   347]], dtype=int32)"
      ]
     },
     "execution_count": 32,
     "metadata": {},
     "output_type": "execute_result"
    }
   ],
   "source": []
  },
  {
   "cell_type": "code",
   "execution_count": null,
   "metadata": {},
   "outputs": [],
   "source": []
  },
  {
   "cell_type": "code",
   "execution_count": null,
   "metadata": {},
   "outputs": [],
   "source": []
  },
  {
   "cell_type": "code",
   "execution_count": null,
   "metadata": {},
   "outputs": [],
   "source": []
  },
  {
   "cell_type": "code",
   "execution_count": null,
   "metadata": {},
   "outputs": [],
   "source": []
  }
 ],
 "metadata": {
  "kernelspec": {
   "display_name": "Python [conda env:ironhack]",
   "language": "python",
   "name": "conda-env-ironhack-py"
  },
  "language_info": {
   "codemirror_mode": {
    "name": "ipython",
    "version": 3
   },
   "file_extension": ".py",
   "mimetype": "text/x-python",
   "name": "python",
   "nbconvert_exporter": "python",
   "pygments_lexer": "ipython3",
   "version": "3.7.7"
  }
 },
 "nbformat": 4,
 "nbformat_minor": 4
}
